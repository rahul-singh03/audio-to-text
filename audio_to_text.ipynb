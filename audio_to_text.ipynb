{
  "nbformat": 4,
  "nbformat_minor": 0,
  "metadata": {
    "colab": {
      "provenance": [],
      "authorship_tag": "ABX9TyO8NzFZMGrvGP9mplAFQJsu",
      "include_colab_link": true
    },
    "kernelspec": {
      "name": "python3",
      "display_name": "Python 3"
    },
    "language_info": {
      "name": "python"
    }
  },
  "cells": [
    {
      "cell_type": "markdown",
      "metadata": {
        "id": "view-in-github",
        "colab_type": "text"
      },
      "source": [
        "<a href=\"https://colab.research.google.com/github/rahul-singh03/audio-to-text/blob/main/audio_to_text.ipynb\" target=\"_parent\"><img src=\"https://colab.research.google.com/assets/colab-badge.svg\" alt=\"Open In Colab\"/></a>"
      ]
    },
    {
      "cell_type": "code",
      "execution_count": null,
      "metadata": {
        "id": "NIIOBw8fooPN"
      },
      "outputs": [],
      "source": [
        "!pip install SpeechRecognition"
      ]
    },
    {
      "cell_type": "code",
      "source": [
        "!apt install libasound2-dev portaudio19-dev libportaudio2 libportaudiocpp0"
      ],
      "metadata": {
        "id": "VUaTc7kVpnA0"
      },
      "execution_count": null,
      "outputs": []
    },
    {
      "cell_type": "code",
      "source": [
        "!pip install Pyaudio"
      ],
      "metadata": {
        "id": "86sjFoEbp7cD"
      },
      "execution_count": null,
      "outputs": []
    },
    {
      "cell_type": "code",
      "source": [
        "import speech_recognition as sr"
      ],
      "metadata": {
        "id": "qYwU6t62qJi4"
      },
      "execution_count": null,
      "outputs": []
    },
    {
      "cell_type": "code",
      "source": [
        "def aud_to_txt(audio_file):\n",
        "  recognizer = sr.Recognizer()\n",
        "  with sr.AudioFile(audio_file) as source:\n",
        "    audio = recognizer.record(source)\n",
        "  try:\n",
        "    text = recognizer.recognize_google(audio)\n",
        "    return text\n",
        "  except sr.UnknownValueError:\n",
        "    return \"Google Web Search API could not understand the audio.\"\n",
        "  except sr.RequestError as e:\n",
        "    return f\"Could not request results from google web search API; {e}\""
      ],
      "metadata": {
        "id": "9kazCxNAqYwn"
      },
      "execution_count": null,
      "outputs": []
    },
    {
      "cell_type": "code",
      "source": [
        "r = aud_to_txt(\"/content/drive/MyDrive/real.wav\")"
      ],
      "metadata": {
        "id": "qWjveoAgrsAj"
      },
      "execution_count": 8,
      "outputs": []
    },
    {
      "cell_type": "code",
      "source": [
        "print(\"Transcripted Result:-\")\n",
        "print(r)"
      ],
      "metadata": {
        "colab": {
          "base_uri": "https://localhost:8080/"
        },
        "id": "aAawtV9TuB0q",
        "outputId": "0971ae3f-1da7-4a23-8938-e7fca4948e92"
      },
      "execution_count": 9,
      "outputs": [
        {
          "output_type": "stream",
          "name": "stdout",
          "text": [
            "Transcripted Result:-\n",
            "oh he has been away from New York he has been all around the world he doesn't know many people here but he's very sociable and he wants to know everyone\n"
          ]
        }
      ]
    }
  ]
}